{
  "cells": [
    {
      "cell_type": "markdown",
      "source": [
        "#### Collab Related Only\n",
        "\n",
        "- Connecting to Google Drive;\n",
        "- Installing packages in the current kernel;"
      ],
      "metadata": {
        "id": "bS294CKhQmX3"
      },
      "id": "bS294CKhQmX3"
    },
    {
      "cell_type": "code",
      "source": [
        "# Mounting the drive\n",
        "from google.colab import drive\n",
        "drive.mount('/content/gdrive')\n",
        "root = '/content/gdrive/My Drive/'"
      ],
      "metadata": {
        "colab": {
          "base_uri": "https://localhost:8080/"
        },
        "id": "67vACSxISOXa",
        "outputId": "9fe552f0-7d6a-431c-ce86-a48416aaf38e"
      },
      "id": "67vACSxISOXa",
      "execution_count": null,
      "outputs": [
        {
          "output_type": "stream",
          "name": "stdout",
          "text": [
            "Mounted at /content/gdrive\n"
          ]
        }
      ]
    },
    {
      "cell_type": "code",
      "source": [
        "# Installing missing pip packages in the current Jupyter kernel\n",
        "import sys\n",
        "!{sys.executable} -m pip install magenta"
      ],
      "metadata": {
        "id": "7tj9JHJ0S1HE"
      },
      "id": "7tj9JHJ0S1HE",
      "execution_count": null,
      "outputs": []
    },
    {
      "cell_type": "markdown",
      "source": [
        "##### CUDA. Optional.\n",
        "If Cuda drivers are missing, run the next cell."
      ],
      "metadata": {
        "id": "8PW_vKAK7THl"
      },
      "id": "8PW_vKAK7THl"
    },
    {
      "cell_type": "code",
      "source": [
        "# Check libcudnn8 version\n",
        "!apt-cache policy libcudnn8\n",
        "# Install latest version\n",
        "!apt install --allow-change-held-packages libcudnn8=8.4.1.50-1+cuda11.6\n",
        "\n",
        "# Export env variables\n",
        "!export PATH=/usr/local/cuda-11.4/bin${PATH:+:${PATH}}\n",
        "!export LD_LIBRARY_PATH=/usr/local/cuda-11.4/lib64:$LD_LIBRARY_PATH\n",
        "!export LD_LIBRARY_PATH=/usr/local/cuda-11.4/include:$LD_LIBRARY_PATH\n",
        "!export LD_LIBRARY_PATH=$LD_LIBRARY_PATH:/usr/local/cuda/extras/CUPTI/lib64"
      ],
      "metadata": {
        "id": "H0waMJAI7Ln1"
      },
      "id": "H0waMJAI7Ln1",
      "execution_count": null,
      "outputs": []
    },
    {
      "cell_type": "markdown",
      "source": [
        "#### Create NoteSequences\n",
        "Convert a collection of MIDI files into NoteSequences. Requirement: have all midi files already uploaded to Colab."
      ],
      "metadata": {
        "id": "6vDG6sXr4jfl"
      },
      "id": "6vDG6sXr4jfl"
    },
    {
      "cell_type": "code",
      "source": [
        "# Move uploaded files into data folder\n",
        "data_path = '/content/dataset'\n",
        "!find '/content/' -maxdepth 1 -type f -print0 | xargs -0 mv -t $data_path\n",
        "\n",
        "# TFRecord file that will contain NoteSequence protocol buffers\n",
        "tf_record_path = '/content/TFRecord/sequences.tfr'\n",
        "\n",
        "!python /usr/local/lib/python3.7/dist-packages/magenta/scripts/convert_dir_to_note_sequences.py --input_dir=$data_path --output_file=$tf_record_path --recursive"
      ],
      "metadata": {
        "id": "88lszX9B4vbP"
      },
      "id": "88lszX9B4vbP",
      "execution_count": null,
      "outputs": []
    },
    {
      "cell_type": "markdown",
      "source": [
        "#### Create SequenceExamples\n",
        "SequenceExamples are fed into the model during training and evaluation. Each SequenceExample will contain a sequence of inputs and a sequence of labels that represent a melody."
      ],
      "metadata": {
        "id": "HRPjOGtsIxIC"
      },
      "id": "HRPjOGtsIxIC"
    },
    {
      "cell_type": "code",
      "source": [
        "seq_examples_path = '/content/seq_examples'\n",
        "# Available configs: basic, mono, lookback, attention\n",
        "config = 'attention_rnn'\n",
        "\n",
        "!python /usr/local/lib/python3.7/dist-packages/magenta/models/melody_rnn/melody_rnn_create_dataset.py --config=$config --input=$tf_record_path --output_dir=$seq_examples_path --eval_ratio=0.0"
      ],
      "metadata": {
        "id": "NHvk4U4qI15a"
      },
      "id": "NHvk4U4qI15a",
      "execution_count": null,
      "outputs": []
    },
    {
      "cell_type": "markdown",
      "source": [
        "#### Train the Model\n"
      ],
      "metadata": {
        "id": "VT_apTRnMQ9l"
      },
      "id": "VT_apTRnMQ9l"
    },
    {
      "cell_type": "code",
      "source": [
        "!mkdir checkpoints\n",
        "checkpoints_path = '/content/checkpoints'\n",
        "example_file = seq_examples_path + '/training_melodies.tfrecord'\n",
        "hparams = 'batch_size=128,rnn_layer_sizes=[256,256]'\n",
        "max_steps = 20000 \n",
        "\n",
        "!python /usr/local/lib/python3.7/dist-packages/magenta/models/melody_rnn/melody_rnn_train.py --config=$config --run_dir=$checkpoints_path --sequence_example_file=$example_file --hparams=$hparams --num_training_steps=$max_steps"
      ],
      "metadata": {
        "id": "ytmNcpQxM9vj"
      },
      "id": "ytmNcpQxM9vj",
      "execution_count": null,
      "outputs": []
    },
    {
      "cell_type": "markdown",
      "source": [
        "#### Generate Melodies"
      ],
      "metadata": {
        "id": "zSvFr1VdOv7L"
      },
      "id": "zSvFr1VdOv7L"
    },
    {
      "cell_type": "code",
      "source": [
        "# Set the arguments\n",
        "config = 'attention_rnn'\n",
        "output_path = '/content/output'\n",
        "primer_midi_path = '/content/input/test.mid'\n",
        "checkpoints_path = '/content/checkpoints'\n",
        "hparams = 'batch_size=128,rnn_layer_sizes=[256,256]'\n",
        "steps = 512\n",
        "\n",
        "# Generate with checkpoints in Colab\n",
        "!python /usr/local/lib/python3.7/dist-packages/magenta/models/melody_rnn/melody_rnn_generate.py --config=$config --run_dir=$checkpoints_path --output_dir=$output_path --num_outputs=5 --num_steps=$steps --hparams=$hparams --primer_midi=$primer_midi_path"
      ],
      "metadata": {
        "colab": {
          "base_uri": "https://localhost:8080/"
        },
        "id": "gMp4pCiyOvRN",
        "outputId": "324340e3-f987-4d72-f585-4115277f1bf2"
      },
      "id": "gMp4pCiyOvRN",
      "execution_count": null,
      "outputs": [
        {
          "output_type": "stream",
          "name": "stdout",
          "text": [
            "/usr/local/lib/python3.7/dist-packages/librosa/util/decorators.py:9: NumbaDeprecationWarning: \u001b[1mAn import was requested from a module that has moved location.\n",
            "Import requested from: 'numba.decorators', please update to use 'numba.core.decorators' or pin to Numba version 0.48.0. This alias will not be present in Numba version 0.50.0.\u001b[0m\n",
            "  from numba.decorators import jit as optional_jit\n",
            "/usr/local/lib/python3.7/dist-packages/librosa/util/decorators.py:9: NumbaDeprecationWarning: \u001b[1mAn import was requested from a module that has moved location.\n",
            "Import of 'jit' requested from: 'numba.decorators', please update to use 'numba.core.decorators' or pin to Numba version 0.48.0. This alias will not be present in Numba version 0.50.0.\u001b[0m\n",
            "  from numba.decorators import jit as optional_jit\n",
            "/usr/local/lib/python3.7/dist-packages/resampy/interpn.py:114: NumbaWarning: \u001b[1m\u001b[1mThe TBB threading layer requires TBB version 2019.5 or later i.e., TBB_INTERFACE_VERSION >= 11005. Found TBB_INTERFACE_VERSION = 9107. The TBB threading layer is disabled.\u001b[0m\u001b[0m\n",
            "  _resample_loop_p(x, t_out, interp_win, interp_delta, num_table, scale, y)\n",
            "WARNING:tensorflow:From /usr/local/lib/python3.7/dist-packages/tensorflow/python/compat/v2_compat.py:107: disable_resource_variables (from tensorflow.python.ops.variable_scope) is deprecated and will be removed in a future version.\n",
            "Instructions for updating:\n",
            "non-resource variables are not supported in the long term\n",
            "INFO:tensorflow:hparams = {'batch_size': 128, 'rnn_layer_sizes': [256, 256], 'dropout_keep_prob': 0.5, 'attn_length': 40, 'clip_norm': 3, 'learning_rate': 0.001, 'residual_connections': False, 'use_cudnn': False}\n",
            "I0905 00:10:35.120224 140396727543680 events_rnn_graph.py:96] hparams = {'batch_size': 128, 'rnn_layer_sizes': [256, 256], 'dropout_keep_prob': 0.5, 'attn_length': 40, 'clip_norm': 3, 'learning_rate': 0.001, 'residual_connections': False, 'use_cudnn': False}\n",
            "/usr/local/lib/python3.7/dist-packages/magenta/models/shared/events_rnn_graph.py:50: UserWarning: `tf.nn.rnn_cell.BasicLSTMCell` is deprecated and will be removed in a future version. This class is equivalent as `tf.keras.layers.LSTMCell`, and will be replaced by that in Tensorflow 2.0.\n",
            "  cell = base_cell(rnn_layer_sizes[i])\n",
            "WARNING:tensorflow:`tf.nn.rnn_cell.MultiRNNCell` is deprecated. This class is equivalent as `tf.keras.layers.StackedRNNCells`, and will be replaced by that in Tensorflow 2.0.\n",
            "W0905 00:10:35.137808 140396727543680 legacy_cells.py:1109] `tf.nn.rnn_cell.MultiRNNCell` is deprecated. This class is equivalent as `tf.keras.layers.StackedRNNCells`, and will be replaced by that in Tensorflow 2.0.\n",
            "WARNING:tensorflow:From /usr/local/lib/python3.7/dist-packages/magenta/models/shared/events_rnn_graph.py:139: dynamic_rnn (from tensorflow.python.ops.rnn) is deprecated and will be removed in a future version.\n",
            "Instructions for updating:\n",
            "Please use `keras.layers.RNN(cell)`, which is equivalent to this API\n",
            "W0905 00:10:35.166836 140396727543680 deprecation.py:356] From /usr/local/lib/python3.7/dist-packages/magenta/models/shared/events_rnn_graph.py:139: dynamic_rnn (from tensorflow.python.ops.rnn) is deprecated and will be removed in a future version.\n",
            "Instructions for updating:\n",
            "Please use `keras.layers.RNN(cell)`, which is equivalent to this API\n",
            "WARNING:tensorflow:From /usr/local/lib/python3.7/dist-packages/magenta/contrib/rnn.py:133: calling Constant.__init__ (from tensorflow.python.ops.init_ops) with dtype is deprecated and will be removed in a future version.\n",
            "Instructions for updating:\n",
            "Call initializer instance with the dtype argument instead of passing it to the constructor\n",
            "W0905 00:10:35.731824 140396727543680 deprecation.py:560] From /usr/local/lib/python3.7/dist-packages/magenta/contrib/rnn.py:133: calling Constant.__init__ (from tensorflow.python.ops.init_ops) with dtype is deprecated and will be removed in a future version.\n",
            "Instructions for updating:\n",
            "Call initializer instance with the dtype argument instead of passing it to the constructor\n",
            "WARNING:tensorflow:From /usr/local/lib/python3.7/dist-packages/keras/layers/rnn/legacy_cells.py:726: calling Zeros.__init__ (from tensorflow.python.ops.init_ops) with dtype is deprecated and will be removed in a future version.\n",
            "Instructions for updating:\n",
            "Call initializer instance with the dtype argument instead of passing it to the constructor\n",
            "W0905 00:10:35.842061 140396727543680 deprecation.py:560] From /usr/local/lib/python3.7/dist-packages/keras/layers/rnn/legacy_cells.py:726: calling Zeros.__init__ (from tensorflow.python.ops.init_ops) with dtype is deprecated and will be removed in a future version.\n",
            "Instructions for updating:\n",
            "Call initializer instance with the dtype argument instead of passing it to the constructor\n",
            "/usr/local/lib/python3.7/dist-packages/tensorflow/python/keras/engine/base_layer_v1.py:1694: UserWarning: `layer.apply` is deprecated and will be removed in a future version. Please use `layer.__call__` method instead.\n",
            "  warnings.warn('`layer.apply` is deprecated and '\n",
            "WARNING:tensorflow:From /usr/local/lib/python3.7/dist-packages/tensorflow/python/util/dispatch.py:1082: div (from tensorflow.python.ops.math_ops) is deprecated and will be removed in a future version.\n",
            "Instructions for updating:\n",
            "Deprecated in favor of operator or tf.math.divide.\n",
            "W0905 00:10:36.169743 140396727543680 deprecation.py:356] From /usr/local/lib/python3.7/dist-packages/tensorflow/python/util/dispatch.py:1082: div (from tensorflow.python.ops.math_ops) is deprecated and will be removed in a future version.\n",
            "Instructions for updating:\n",
            "Deprecated in favor of operator or tf.math.divide.\n",
            "2022-09-05 00:10:37.020622: W tensorflow/core/common_runtime/gpu/gpu_bfc_allocator.cc:42] Overriding orig_value setting because the TF_FORCE_GPU_ALLOW_GROWTH environment variable is set. Original config value was 0.\n",
            "INFO:tensorflow:Checkpoint used: /content/checkpoints_v2/train/model.ckpt-1386\n",
            "I0905 00:10:37.021512 140396727543680 model.py:56] Checkpoint used: /content/checkpoints_v2/train/model.ckpt-1386\n",
            "INFO:tensorflow:Restoring parameters from /content/checkpoints_v2/train/model.ckpt-1386\n",
            "I0905 00:10:37.021921 140396727543680 saver.py:1412] Restoring parameters from /content/checkpoints_v2/train/model.ckpt-1386\n",
            "INFO:tensorflow:Beam search yields sequence with log-likelihood: -629.411682 \n",
            "I0905 00:11:01.316534 140396727543680 events_rnn_model.py:381] Beam search yields sequence with log-likelihood: -629.411682 \n",
            "INFO:tensorflow:Beam search yields sequence with log-likelihood: -637.579590 \n",
            "I0905 00:11:24.331419 140396727543680 events_rnn_model.py:381] Beam search yields sequence with log-likelihood: -637.579590 \n",
            "INFO:tensorflow:Beam search yields sequence with log-likelihood: -638.255249 \n",
            "I0905 00:11:47.154644 140396727543680 events_rnn_model.py:381] Beam search yields sequence with log-likelihood: -638.255249 \n",
            "INFO:tensorflow:Beam search yields sequence with log-likelihood: -634.965454 \n",
            "I0905 00:12:10.107951 140396727543680 events_rnn_model.py:381] Beam search yields sequence with log-likelihood: -634.965454 \n",
            "INFO:tensorflow:Beam search yields sequence with log-likelihood: -619.466431 \n",
            "I0905 00:12:33.144714 140396727543680 events_rnn_model.py:381] Beam search yields sequence with log-likelihood: -619.466431 \n",
            "INFO:tensorflow:Wrote 5 MIDI files to /content/output_att\n",
            "I0905 00:12:33.176953 140396727543680 melody_rnn_generate.py:216] Wrote 5 MIDI files to /content/output_att\n",
            "\u001b[0m"
          ]
        }
      ]
    }
  ],
  "metadata": {
    "kernelspec": {
      "display_name": "Python 3",
      "name": "python3"
    },
    "language_info": {
      "name": "python"
    },
    "colab": {
      "provenance": [],
      "machine_shape": "hm",
      "collapsed_sections": []
    },
    "accelerator": "GPU",
    "gpuClass": "standard"
  },
  "nbformat": 4,
  "nbformat_minor": 5
}