{
  "cells": [
    {
      "cell_type": "markdown",
      "source": [
        "### Collab Related Only\n",
        "\n",
        "- Connecting to Google Drive;\n",
        "- Installing missing packages in the current kernel;"
      ],
      "metadata": {
        "id": "bS294CKhQmX3"
      },
      "id": "bS294CKhQmX3"
    },
    {
      "cell_type": "code",
      "source": [
        "# Mounting the drive\n",
        "from google.colab import drive\n",
        "drive.mount('/content/gdrive')\n",
        "root = '/content/gdrive/My Drive/'"
      ],
      "metadata": {
        "colab": {
          "base_uri": "https://localhost:8080/"
        },
        "id": "67vACSxISOXa",
        "outputId": "394816b0-df67-4254-a574-e99da2e71f67"
      },
      "id": "67vACSxISOXa",
      "execution_count": 1,
      "outputs": [
        {
          "output_type": "stream",
          "name": "stdout",
          "text": [
            "Mounted at /content/gdrive\n"
          ]
        }
      ]
    },
    {
      "cell_type": "code",
      "source": [
        "# Installing missing pip packages in the current Jupyter kernel\n",
        "import sys\n",
        "!{sys.executable} -m pip install pretty_midi"
      ],
      "metadata": {
        "colab": {
          "base_uri": "https://localhost:8080/"
        },
        "id": "7tj9JHJ0S1HE",
        "outputId": "8ae7ab78-b88f-4eeb-e278-2c031629e80a"
      },
      "id": "7tj9JHJ0S1HE",
      "execution_count": 2,
      "outputs": [
        {
          "output_type": "stream",
          "name": "stdout",
          "text": [
            "Looking in indexes: https://pypi.org/simple, https://us-python.pkg.dev/colab-wheels/public/simple/\n",
            "Collecting pretty_midi\n",
            "  Downloading pretty_midi-0.2.9.tar.gz (5.6 MB)\n",
            "\u001b[K     |████████████████████████████████| 5.6 MB 4.8 MB/s \n",
            "\u001b[?25hRequirement already satisfied: numpy>=1.7.0 in /usr/local/lib/python3.7/dist-packages (from pretty_midi) (1.21.6)\n",
            "Collecting mido>=1.1.16\n",
            "  Downloading mido-1.2.10-py2.py3-none-any.whl (51 kB)\n",
            "\u001b[K     |████████████████████████████████| 51 kB 6.5 MB/s \n",
            "\u001b[?25hRequirement already satisfied: six in /usr/local/lib/python3.7/dist-packages (from pretty_midi) (1.15.0)\n",
            "Building wheels for collected packages: pretty-midi\n",
            "  Building wheel for pretty-midi (setup.py) ... \u001b[?25l\u001b[?25hdone\n",
            "  Created wheel for pretty-midi: filename=pretty_midi-0.2.9-py3-none-any.whl size=5591955 sha256=03b0fa48b05fbf55637bdaf9a69dac27f949dc125a1803d90ac7918a17fcd259\n",
            "  Stored in directory: /root/.cache/pip/wheels/ad/74/7c/a06473ca8dcb63efb98c1e67667ce39d52100f837835ea18fa\n",
            "Successfully built pretty-midi\n",
            "Installing collected packages: mido, pretty-midi\n",
            "Successfully installed mido-1.2.10 pretty-midi-0.2.9\n"
          ]
        }
      ]
    },
    {
      "cell_type": "markdown",
      "id": "7d7e548d",
      "metadata": {
        "id": "7d7e548d"
      },
      "source": [
        "### Setup\n",
        "This notebook processes given midi files, extracts notes, trains an RNN and generates new music for a provided piece.  \n",
        "We would need the following libraries to get started."
      ]
    },
    {
      "cell_type": "code",
      "execution_count": 34,
      "id": "3fac5ab6",
      "metadata": {
        "scrolled": true,
        "id": "3fac5ab6",
        "colab": {
          "base_uri": "https://localhost:8080/"
        },
        "outputId": "9b6369d3-9764-4265-8e4b-98e9b5698ab5"
      },
      "outputs": [
        {
          "output_type": "stream",
          "name": "stdout",
          "text": [
            "2.8.2\n"
          ]
        }
      ],
      "source": [
        "import collections\n",
        "import glob\n",
        "import pretty_midi\n",
        "import numpy as np\n",
        "import pandas as pd\n",
        "import seaborn as sns\n",
        "import tensorflow as tf\n",
        "from datetime import datetime\n",
        "from matplotlib import pyplot as plt\n",
        "from tensorflow.keras import layers, losses, optimizers, callbacks, Input, Model\n",
        "from tensorboard.plugins.hparams import api as hp\n",
        "\n",
        "print(tf. __version__)\n",
        "CHECKPOINTS_PATH = root + 'CM3070/checkpoints_v3/'"
      ]
    },
    {
      "cell_type": "markdown",
      "id": "45a6d154",
      "metadata": {
        "id": "45a6d154"
      },
      "source": [
        "### Data\n",
        "\n",
        "Loading data and defining data related functions."
      ]
    },
    {
      "cell_type": "code",
      "execution_count": 4,
      "id": "6e711b29",
      "metadata": {
        "colab": {
          "base_uri": "https://localhost:8080/"
        },
        "id": "6e711b29",
        "outputId": "e4f3b700-6d85-44af-f0db-b413d50987b3"
      },
      "outputs": [
        {
          "output_type": "stream",
          "name": "stdout",
          "text": [
            "Number of files loaded: 150\n"
          ]
        }
      ],
      "source": [
        "midi_files = glob.glob(str(root + 'CM3070/data/*.mid*'))\n",
        "print('Number of files loaded:', len(midi_files))\n",
        "\n",
        "def midi_to_notes(midi_file):\n",
        "    instrument_notes = []\n",
        "\n",
        "    pm = pretty_midi.PrettyMIDI(midi_file)\n",
        "    # Some guitar tracks use different midi instruments (i.e. clean/overdrive)\n",
        "    for instrument in pm.instruments:\n",
        "        last_instrument_name = pretty_midi.program_to_instrument_name(instrument.program)\n",
        "        instrument_notes += instrument.notes\n",
        "    \n",
        "    # Sort the notes by start time\n",
        "    sorted_notes = sorted(instrument_notes, key=lambda note: note.start)\n",
        "    prev_start = sorted_notes[0].start\n",
        "\n",
        "    # Process features\n",
        "    processed_notes = collections.defaultdict(list)\n",
        "    for note in sorted_notes:\n",
        "        processed_notes['pitch'].append(note.pitch)\n",
        "        processed_notes['start'].append(note.start)\n",
        "        processed_notes['end'].append(note.end)\n",
        "        processed_notes['step'].append(note.start - prev_start)\n",
        "        processed_notes['duration'].append(note.end - note.start)\n",
        "        prev_start = note.start\n",
        "\n",
        "    return pd.DataFrame({\n",
        "        name: np.array(value) for name, value in processed_notes.items()\n",
        "    })\n",
        "\n",
        "def notes_to_midi(notes, out_file, instrument_name, velocity = 100):\n",
        "    # Create an instrument\n",
        "    instrument = pretty_midi.Instrument(program=pretty_midi.instrument_name_to_program(instrument_name))\n",
        "\n",
        "    # Map given notes to the expected schema\n",
        "    prev_start = 0\n",
        "    for i, note in notes.iterrows():\n",
        "        start = float(prev_start + note['step'])\n",
        "        end = float(start + note['duration'])\n",
        "        note = pretty_midi.Note(\n",
        "            velocity=velocity,\n",
        "            pitch=int(note['pitch']),\n",
        "            start=start,\n",
        "            end=end,\n",
        "        )\n",
        "        instrument.notes.append(note)\n",
        "        prev_start = start\n",
        "\n",
        "    # Create a file, append the instrument and write it to a disk\n",
        "    pm = pretty_midi.PrettyMIDI()\n",
        "    pm.instruments.append(instrument)\n",
        "    pm.write(out_file)\n",
        "    return pm"
      ]
    },
    {
      "cell_type": "markdown",
      "source": [
        "Define plot functions for note distribution and piano roll."
      ],
      "metadata": {
        "id": "s8Luh7QaZHLK"
      },
      "id": "s8Luh7QaZHLK"
    },
    {
      "cell_type": "code",
      "source": [
        "def plot_piano_roll(notes, num_of_notes=0):\n",
        "    if num_of_notes:\n",
        "        title = f'First {num_of_notes} notes'\n",
        "    else:\n",
        "        title = f'Whole track'\n",
        "        num_of_notes = len(notes['pitch'])\n",
        "    # Plotting the roll\n",
        "    plt.figure(figsize=(20, 4))\n",
        "    plot_pitch = np.stack([notes['pitch'], notes['pitch']], axis=0)\n",
        "    plot_start_stop = np.stack([notes['start'], notes['end']], axis=0)\n",
        "    plt.plot(plot_start_stop[:, :num_of_notes], plot_pitch[:, :num_of_notes], color=\"r\", marker=\".\")\n",
        "    plt.xlabel('Time [s]')\n",
        "    plt.ylabel('Pitch')\n",
        "    plt.title(title)\n",
        "\n",
        "def plot_distributions(notes, drop_percentile=2.5):\n",
        "    plt.figure(figsize=[15, 5])\n",
        "    # Plotting pitch\n",
        "    plt.subplot(1, 3, 1)\n",
        "    sns.histplot(notes, x=\"pitch\", bins=20)\n",
        "    # Plotting step\n",
        "    plt.subplot(1, 3, 2)\n",
        "    max_step = np.percentile(notes['step'], 100 - drop_percentile)\n",
        "    sns.histplot(notes, x=\"step\", bins=np.linspace(0, max_step, 21))\n",
        "    # Plotting duration\n",
        "    plt.subplot(1, 3, 3)\n",
        "    max_duration = np.percentile(notes['duration'], 100 - drop_percentile)\n",
        "    sns.histplot(notes, x=\"duration\", bins=np.linspace(0, max_duration, 21))"
      ],
      "metadata": {
        "id": "Q75Cf54egFu6"
      },
      "id": "Q75Cf54egFu6",
      "execution_count": 12,
      "outputs": []
    },
    {
      "cell_type": "markdown",
      "id": "cb83679e",
      "metadata": {
        "id": "cb83679e"
      },
      "source": [
        "### Create the training dataset"
      ]
    },
    {
      "cell_type": "code",
      "execution_count": 56,
      "id": "4f831a13",
      "metadata": {
        "id": "4f831a13",
        "colab": {
          "base_uri": "https://localhost:8080/"
        },
        "outputId": "0c769db9-1be4-457f-a81b-4f297069eb24"
      },
      "outputs": [
        {
          "output_type": "stream",
          "name": "stdout",
          "text": [
            "Number of tracks parsed: 150\n",
            "Number of total notes parsed: 262810\n"
          ]
        }
      ],
      "source": [
        "# set how many files use for training here\n",
        "num_files = len(midi_files)\n",
        "\n",
        "# set the key order\n",
        "key_order = ['pitch', 'step', 'duration']\n",
        "\n",
        "track_notes_sets = []\n",
        "for file in midi_files[:num_files]:\n",
        "    notes = midi_to_notes(file)\n",
        "    train_notes = np.stack([notes[key] for key in key_order], axis=1)\n",
        "    track_notes_set = tf.data.Dataset.from_tensor_slices(train_notes)\n",
        "    track_notes_sets.append(track_notes_set)\n",
        "\n",
        "all_notes_count = sum([len(track_notes_set) for track_notes_set in track_notes_sets])\n",
        "print('Number of tracks parsed:', len(track_notes_sets))\n",
        "print('Number of total notes parsed:', all_notes_count)"
      ]
    },
    {
      "cell_type": "markdown",
      "id": "d71040a6",
      "metadata": {
        "id": "d71040a6"
      },
      "source": [
        "We will train the model on batches of sequences of notes. Each example will consist of a sequence of notes as the input features, and next note as the label. This way, the model will be trained to predict the next note in a sequence."
      ]
    },
    {
      "cell_type": "code",
      "execution_count": 29,
      "id": "54e37d40",
      "metadata": {
        "id": "54e37d40"
      },
      "outputs": [],
      "source": [
        "# Returns tensorflow dataset of sequences and label examples.\n",
        "def create_sequences(datasets, sequence_length):\n",
        "    # Normalize note pitch\n",
        "    def scale_pitch(x):\n",
        "        # The size of the vocabulary is set to 128 by default, representing all the pitches supported by pretty_midi\n",
        "        vocab_size = 128\n",
        "        x = x / [vocab_size, 1.0, 1.0]\n",
        "        return x\n",
        "\n",
        "    # Split the labels\n",
        "    def split_labels(sequences):\n",
        "        inputs = sequences[:-1]\n",
        "        labels = {\n",
        "            key: sequences[-1][i] for i, key in enumerate(key_order)\n",
        "        }\n",
        "        return scale_pitch(inputs), labels\n",
        "\n",
        "    # Take 1 extra note for the labels\n",
        "    sequence_length += 1\n",
        "    \n",
        "    for i, dataset in enumerate(datasets):\n",
        "        batches = dataset.window(sequence_length, shift=1, stride=1, drop_remainder=True)\n",
        "        # Flatten into a dataset of tensors\n",
        "        tensors = batches.flat_map(lambda window: window.batch(sequence_length, drop_remainder=True))\n",
        "        mapped_tensors = tensors.map(split_labels, num_parallel_calls=tf.data.AUTOTUNE)\n",
        "        if i == 0:\n",
        "            result = mapped_tensors\n",
        "        else:\n",
        "            result = result.concatenate(mapped_tensors)\n",
        "    return result\n",
        "\n",
        "# Returns batched and shuffled dataset\n",
        "def create_train_ds(sequence_length):\n",
        "    sequences_ds = create_sequences(track_notes_sets, sequence_length)\n",
        "\n",
        "    for seq, target in sequences_ds.take(1):\n",
        "        print('sequence shape:', seq.shape)\n",
        "        print('sequence elements (first 5):', seq[0:5])\n",
        "        print('target:', target)\n",
        "\n",
        "    batch_size = 64\n",
        "    # The number of items in the dataset\n",
        "    buffer_size = all_notes_count - sequence_length  \n",
        "    train_ds = (sequences_ds.shuffle(buffer_size).batch(batch_size, drop_remainder=True).cache().prefetch(tf.data.experimental.AUTOTUNE))\n",
        "    return train_ds"
      ]
    },
    {
      "cell_type": "markdown",
      "id": "3533ebbf",
      "metadata": {
        "id": "3533ebbf"
      },
      "source": [
        "### Create and train the model"
      ]
    },
    {
      "cell_type": "markdown",
      "id": "8da2d5b0",
      "metadata": {
        "id": "8da2d5b0"
      },
      "source": [
        "The model will have three outputs, one for each note variable.\n",
        "\n",
        "For step and duration, we will use a custom loss function based on MSE that encourages the model to output non-negative values."
      ]
    },
    {
      "cell_type": "code",
      "execution_count": 38,
      "id": "d124231f",
      "metadata": {
        "id": "d124231f"
      },
      "outputs": [],
      "source": [
        "# Encourage non-negative values\n",
        "def mse_with_positive_pressure(y_true, y_pred):\n",
        "    mse = (y_true - y_pred) ** 2\n",
        "    positive_pressure = 10 * tf.maximum(-y_pred, 0.0)\n",
        "    return tf.reduce_mean(mse + positive_pressure)\n",
        "\n",
        "# Encourage longer steps and non-negative values\n",
        "def mse_with_positive_step_pressure(y_true, y_pred):\n",
        "    mse = (y_true - y_pred) ** 2\n",
        "    longer_positive_step_pressure = 10 * tf.maximum(0.05 - y_pred, 0.0)\n",
        "    return tf.reduce_mean(mse + longer_positive_step_pressure)"
      ]
    },
    {
      "cell_type": "code",
      "execution_count": 40,
      "id": "9ef7d40b",
      "metadata": {
        "id": "9ef7d40b"
      },
      "outputs": [],
      "source": [
        "# Model constructor\n",
        "def create_model(hparams):\n",
        "    sequence_length = hparams[HP_SEQ_LENGTH]\n",
        "    input_shape = (sequence_length, 3)\n",
        "    inputs = Input(input_shape)\n",
        "    x = layers.LSTM(hparams[HP_NUM_UNITS], kernel_regularizer='l2')(inputs)\n",
        "\n",
        "    # Initiate layers\n",
        "    network = Model(\n",
        "        inputs, \n",
        "        {\n",
        "            'pitch': layers.Dense(128, name='pitch')(x),\n",
        "            'step': layers.Dense(1, name='step')(x),\n",
        "            'duration': layers.Dense(1, name='duration')(x),\n",
        "        }\n",
        "    )\n",
        "\n",
        "    # Compile\n",
        "    learning_rate = hparams[HP_L_RATE]\n",
        "    network.compile(\n",
        "        optimizer=tf.keras.optimizers.Adam(learning_rate=learning_rate),\n",
        "        loss={\n",
        "            'pitch': losses.SparseCategoricalCrossentropy(from_logits=True),\n",
        "            'step': mse_with_positive_step_pressure,\n",
        "            'duration': mse_with_positive_pressure,\n",
        "        },\n",
        "        # These weights are needed due to pitch loss being significantly greater than other losses\n",
        "        loss_weights={\n",
        "            'pitch': 0.05,\n",
        "            'step': 1.0,\n",
        "            'duration': 0.5,\n",
        "        }\n",
        "    )\n",
        "\n",
        "    network.summary()\n",
        "    return network"
      ]
    },
    {
      "cell_type": "markdown",
      "id": "6c142f2b",
      "metadata": {
        "id": "6c142f2b"
      },
      "source": [
        "### Train the model"
      ]
    },
    {
      "cell_type": "code",
      "execution_count": null,
      "id": "c8dbb5cd",
      "metadata": {
        "id": "c8dbb5cd"
      },
      "outputs": [],
      "source": [
        "# Model HParams\n",
        "HP_SEQ_LENGTH = hp.HParam('sequence_length', hp.Discrete([16, 32, 64]))\n",
        "HP_NUM_UNITS = hp.HParam('num_units', hp.Discrete([256, 512]))\n",
        "HP_L_RATE = hp.HParam('learning_rate', hp.Discrete([0.001, 0.0005]))\n",
        "\n",
        "# Logging events for hparams\n",
        "log_dir = root + 'CM3070/logs/hparam_tuning'\n",
        "with tf.summary.create_file_writer(log_dir).as_default():\n",
        "    hp.hparams_config(\n",
        "        hparams=[HP_SEQ_LENGTH, HP_NUM_UNITS, HP_L_RATE],\n",
        "        metrics=[hp.Metric('loss', display_name='Loss')],\n",
        "    )\n",
        "\n",
        "# Iterate over hparams and train\n",
        "session_num = 0\n",
        "for num_units in HP_NUM_UNITS.domain.values:\n",
        "    for learning_rate in HP_L_RATE.domain.values:\n",
        "        for seq_length in HP_SEQ_LENGTH.domain.values:\n",
        "            hparams = {\n",
        "                HP_NUM_UNITS: num_units,\n",
        "                HP_L_RATE: learning_rate,\n",
        "                HP_SEQ_LENGTH: seq_length,\n",
        "            }\n",
        "\n",
        "            run_name = \"run-%d\" % session_num\n",
        "            print('--- Starting trial: %s ----' % run_name)\n",
        "            print({h.name: hparams[h] for h in hparams})\n",
        "\n",
        "            network_callbacks = [\n",
        "                hp.KerasCallback(log_dir + '/' + run_name, hparams),  # logs hparams\n",
        "                callbacks.ModelCheckpoint(\n",
        "                    filepath=CHECKPOINTS_PATH + str(num_units) + '_' + str(seq_length) + '_' + str(learning_rate) + '_' + run_name + '/cp-{epoch}.h5',\n",
        "                    monitor='loss',\n",
        "                    save_best_only=True\n",
        "                ), # saves best models\n",
        "                callbacks.EarlyStopping(\n",
        "                    monitor='loss',\n",
        "                    patience=50,\n",
        "                    verbose=1,\n",
        "                    restore_best_weights=True\n",
        "                ) # stopes training when diverging for 50 epochs\n",
        "            ]\n",
        "\n",
        "            # Create note sequences\n",
        "            train_ds = create_train_ds(seq_length)\n",
        "            # Create a new model with current parameters\n",
        "            network = create_model(hparams)\n",
        "\n",
        "            # Max number of epochs\n",
        "            epochs = 1000\n",
        "\n",
        "            # Save last trained model's history\n",
        "            history = network.fit(train_ds, epochs=epochs, callbacks=network_callbacks)\n",
        "            session_num += 1"
      ]
    },
    {
      "cell_type": "markdown",
      "source": [
        "### Load model. Optional.\n",
        "Here we are loding the best model based of the gathered logs and tuning. The model's checkpoint is required."
      ],
      "metadata": {
        "id": "sFdpC8ki2Gsy"
      },
      "id": "sFdpC8ki2Gsy"
    },
    {
      "cell_type": "code",
      "source": [
        "network = tf.keras.models.load_model(\n",
        "    CHECKPOINTS_PATH + '256_32_0.0005_run-1/cp-549.h5',\n",
        "    custom_objects={\n",
        "        'mse_with_positive_step_pressure': mse_with_positive_step_pressure,\n",
        "        'mse_with_positive_pressure': mse_with_positive_pressure\n",
        "})"
      ],
      "metadata": {
        "id": "nJRep5VJ2FsV"
      },
      "id": "nJRep5VJ2FsV",
      "execution_count": 8,
      "outputs": []
    },
    {
      "cell_type": "markdown",
      "id": "256eb54d",
      "metadata": {
        "id": "256eb54d"
      },
      "source": [
        "### Generate notes\n",
        "\n",
        "To use the model to generate notes, we will first need to provide a starting sequence of notes (input midi).\n",
        "\n",
        "For note pitch, it draws a sample from softmax distribution of notes produced by the model, and does not simply pick the note with the highest probability. Always picking the note with the highest probability would lead to repetitive sequences of notes being generated.\n",
        "\n",
        "The temperature parameter can be used to control the randomness of notes generated."
      ]
    },
    {
      "cell_type": "code",
      "execution_count": 16,
      "id": "16e54e2d",
      "metadata": {
        "id": "16e54e2d"
      },
      "outputs": [],
      "source": [
        "sequence_length = 32\n",
        "\n",
        "def predict_next_note(notes, model, temperature=1.0):\n",
        "    assert temperature > 0\n",
        "\n",
        "    # Add batch dimension\n",
        "    inputs = tf.expand_dims(notes, 0)\n",
        "    predictions = model.predict(inputs)\n",
        "\n",
        "    pitch_logits = predictions['pitch']\n",
        "    step = predictions['step']\n",
        "    duration = predictions['duration']\n",
        "\n",
        "    pitch_logits /= temperature\n",
        "    pitch = tf.random.categorical(pitch_logits, num_samples=1)\n",
        "\n",
        "    pitch = tf.squeeze(pitch, axis=-1)\n",
        "    duration = tf.squeeze(duration, axis=-1)\n",
        "    step = tf.squeeze(step, axis=-1)\n",
        "\n",
        "    # Make sure step and duration values non-negative\n",
        "    step = tf.maximum(0, step)\n",
        "    duration = tf.maximum(0, duration)\n",
        "\n",
        "    return int(pitch), float(step), float(duration)\n",
        "\n",
        "temperature = 3.35\n",
        "num_predictions = 150\n",
        "\n",
        "test_files = glob.glob(str(root + 'CM3070/test/*.mid*'))\n",
        "test_notes = midi_to_notes(test_files[0])\n",
        "sample_notes = np.stack([test_notes[key] for key in key_order], axis=1)\n",
        "# Pitch is normalized similar to training sequences\n",
        "input_notes = (sample_notes[:sequence_length] / np.array([128, 1, 1]))\n",
        "\n",
        "generated_notes = []\n",
        "prev_start = 0\n",
        "for _ in range(num_predictions):\n",
        "    pitch, step, duration = predict_next_note(input_notes, network, temperature)\n",
        "    start = prev_start + step\n",
        "    end = start + duration\n",
        "    # TODO: This model messed the key pitch for some reason\n",
        "    # if pitch == 79:\n",
        "    #     pitch = 48\n",
        "    input_note = (pitch, step, duration)\n",
        "    generated_notes.append((*input_note, start, end))\n",
        "    input_notes = np.delete(input_notes, 0, axis=0)\n",
        "    input_notes = np.append(input_notes, np.expand_dims(input_note, 0), axis=0)\n",
        "    prev_start = start"
      ]
    },
    {
      "cell_type": "code",
      "execution_count": 17,
      "id": "9ac508b5",
      "metadata": {
        "colab": {
          "base_uri": "https://localhost:8080/",
          "height": 295
        },
        "id": "9ac508b5",
        "outputId": "49cb25d3-8778-40e7-9357-0e13618f3229"
      },
      "outputs": [
        {
          "output_type": "display_data",
          "data": {
            "text/plain": [
              "<Figure size 1440x288 with 1 Axes>"
            ],
            "image/png": "[encoded data removed]"
          },
          "metadata": {
            "needs_background": "light"
          }
        }
      ],
      "source": [
        "generated_notes = pd.DataFrame(generated_notes, columns=(*key_order, 'start', 'end'))\n",
        "plot_piano_roll(generated_notes)"
      ]
    },
    {
      "cell_type": "code",
      "execution_count": 113,
      "id": "ead51e19",
      "metadata": {
        "id": "ead51e19",
        "colab": {
          "base_uri": "https://localhost:8080/"
        },
        "outputId": "e19a9e6c-1954-4994-f810-dc5c19983051"
      },
      "outputs": [
        {
          "output_type": "stream",
          "name": "stdout",
          "text": [
            "mkdir: cannot create directory ‘output’: File exists\n"
          ]
        },
        {
          "output_type": "execute_result",
          "data": {
            "text/plain": [
              "<pretty_midi.pretty_midi.PrettyMIDI at 0x7efb5ae756d0>"
            ]
          },
          "metadata": {},
          "execution_count": 113
        }
      ],
      "source": [
        "current_time = datetime.now().strftime(\"%H:%M:%S\")\n",
        "instrument_name = 'Distortion Guitar'\n",
        "# Save the midi\n",
        "!mkdir output\n",
        "notes_combined = pd.concat([test_notes, generated_notes])\n",
        "notes_to_midi(generated_notes, out_file='/content/output/' + current_time + '.mid', instrument_name=instrument_name)\n",
        "notes_to_midi(notes_combined, out_file='content/output/combined_' + current_time + '.mid', instrument_name=instrument_name)"
      ]
    }
  ],
  "metadata": {
    "kernelspec": {
      "display_name": "Python 3",
      "name": "python3"
    },
    "language_info": {
      "name": "python"
    },
    "colab": {
      "provenance": [],
      "machine_shape": "hm",
      "collapsed_sections": [
        "bS294CKhQmX3",
        "7d7e548d"
      ]
    },
    "accelerator": "GPU",
    "gpuClass": "standard"
  },
  "nbformat": 4,
  "nbformat_minor": 5
}